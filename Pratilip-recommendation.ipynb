{
 "cells": [
  {
   "cell_type": "code",
   "execution_count": 1,
   "id": "128fe06a",
   "metadata": {},
   "outputs": [],
   "source": [
    "import pandas as pd\n",
    "import matplotlib.pyplot as plt\n",
    "import seaborn as sns\n",
    "import numpy as np\n",
    "\n",
    "%matplotlib inline\n",
    "sns.set_style(\"whitegrid\")\n",
    "plt.style.use(\"fivethirtyeight\")  #adding style to our plots\n",
    "\n",
    "import sklearn\n",
    "import datetime\n",
    "from sklearn import metrics"
   ]
  },
  {
   "cell_type": "code",
   "execution_count": 2,
   "id": "657ced20",
   "metadata": {},
   "outputs": [],
   "source": [
    "df=pd.read_csv('metadata_updated.csv', parse_dates=True, index_col=0)"
   ]
  },
  {
   "cell_type": "code",
   "execution_count": 3,
   "id": "9f0c9731",
   "metadata": {},
   "outputs": [
    {
     "data": {
      "text/html": [
       "<div>\n",
       "<style scoped>\n",
       "    .dataframe tbody tr th:only-of-type {\n",
       "        vertical-align: middle;\n",
       "    }\n",
       "\n",
       "    .dataframe tbody tr th {\n",
       "        vertical-align: top;\n",
       "    }\n",
       "\n",
       "    .dataframe thead th {\n",
       "        text-align: right;\n",
       "    }\n",
       "</style>\n",
       "<table border=\"1\" class=\"dataframe\">\n",
       "  <thead>\n",
       "    <tr style=\"text-align: right;\">\n",
       "      <th></th>\n",
       "      <th>pratilipi_id</th>\n",
       "      <th>category_name</th>\n",
       "      <th>reading_time</th>\n",
       "      <th>updated_at</th>\n",
       "      <th>published_at</th>\n",
       "      <th>updated_at_date</th>\n",
       "      <th>updated_at_time</th>\n",
       "      <th>published_at_date</th>\n",
       "      <th>published_at_time</th>\n",
       "    </tr>\n",
       "    <tr>\n",
       "      <th>author_id</th>\n",
       "      <th></th>\n",
       "      <th></th>\n",
       "      <th></th>\n",
       "      <th></th>\n",
       "      <th></th>\n",
       "      <th></th>\n",
       "      <th></th>\n",
       "      <th></th>\n",
       "      <th></th>\n",
       "    </tr>\n",
       "  </thead>\n",
       "  <tbody>\n",
       "    <tr>\n",
       "      <th>-3.420000e+15</th>\n",
       "      <td>1.030000e+15</td>\n",
       "      <td>translation</td>\n",
       "      <td>0</td>\n",
       "      <td>19-08-2020 15.26</td>\n",
       "      <td>30-09-2016 10.37</td>\n",
       "      <td>19-08-2020</td>\n",
       "      <td>15.26</td>\n",
       "      <td>30-09-2016</td>\n",
       "      <td>10.37</td>\n",
       "    </tr>\n",
       "    <tr>\n",
       "      <th>-2.270000e+15</th>\n",
       "      <td>1.380000e+15</td>\n",
       "      <td>translation</td>\n",
       "      <td>171</td>\n",
       "      <td>21-01-2021 16.27</td>\n",
       "      <td>11-06-2018 13.17</td>\n",
       "      <td>21-01-2021</td>\n",
       "      <td>16.27</td>\n",
       "      <td>11-06-2018</td>\n",
       "      <td>13.17</td>\n",
       "    </tr>\n",
       "    <tr>\n",
       "      <th>-2.270000e+15</th>\n",
       "      <td>1.380000e+15</td>\n",
       "      <td>translation</td>\n",
       "      <td>92</td>\n",
       "      <td>29-09-2020 12.33</td>\n",
       "      <td>12-06-2018 4.19</td>\n",
       "      <td>29-09-2020</td>\n",
       "      <td>12.33</td>\n",
       "      <td>12-06-2018</td>\n",
       "      <td>4.19</td>\n",
       "    </tr>\n",
       "    <tr>\n",
       "      <th>-2.270000e+15</th>\n",
       "      <td>1.380000e+15</td>\n",
       "      <td>translation</td>\n",
       "      <td>0</td>\n",
       "      <td>17-10-2019 9.03</td>\n",
       "      <td>26-09-2019 14.58</td>\n",
       "      <td>17-10-2019</td>\n",
       "      <td>9.03</td>\n",
       "      <td>26-09-2019</td>\n",
       "      <td>14.58</td>\n",
       "    </tr>\n",
       "    <tr>\n",
       "      <th>-2.270000e+15</th>\n",
       "      <td>1.380000e+15</td>\n",
       "      <td>translation</td>\n",
       "      <td>47</td>\n",
       "      <td>05-05-2020 11.33</td>\n",
       "      <td>25-11-2018 12.28</td>\n",
       "      <td>05-05-2020</td>\n",
       "      <td>11.33</td>\n",
       "      <td>25-11-2018</td>\n",
       "      <td>12.28</td>\n",
       "    </tr>\n",
       "  </tbody>\n",
       "</table>\n",
       "</div>"
      ],
      "text/plain": [
       "               pratilipi_id category_name  reading_time        updated_at  \\\n",
       "author_id                                                                   \n",
       "-3.420000e+15  1.030000e+15   translation             0  19-08-2020 15.26   \n",
       "-2.270000e+15  1.380000e+15   translation           171  21-01-2021 16.27   \n",
       "-2.270000e+15  1.380000e+15   translation            92  29-09-2020 12.33   \n",
       "-2.270000e+15  1.380000e+15   translation             0   17-10-2019 9.03   \n",
       "-2.270000e+15  1.380000e+15   translation            47  05-05-2020 11.33   \n",
       "\n",
       "                   published_at updated_at_date  updated_at_time  \\\n",
       "author_id                                                          \n",
       "-3.420000e+15  30-09-2016 10.37      19-08-2020            15.26   \n",
       "-2.270000e+15  11-06-2018 13.17      21-01-2021            16.27   \n",
       "-2.270000e+15   12-06-2018 4.19      29-09-2020            12.33   \n",
       "-2.270000e+15  26-09-2019 14.58      17-10-2019             9.03   \n",
       "-2.270000e+15  25-11-2018 12.28      05-05-2020            11.33   \n",
       "\n",
       "              published_at_date  published_at_time  \n",
       "author_id                                           \n",
       "-3.420000e+15        30-09-2016              10.37  \n",
       "-2.270000e+15        11-06-2018              13.17  \n",
       "-2.270000e+15        12-06-2018               4.19  \n",
       "-2.270000e+15        26-09-2019              14.58  \n",
       "-2.270000e+15        25-11-2018              12.28  "
      ]
     },
     "execution_count": 3,
     "metadata": {},
     "output_type": "execute_result"
    }
   ],
   "source": [
    "df.head()"
   ]
  },
  {
   "cell_type": "markdown",
   "id": "7298b3a3",
   "metadata": {},
   "source": [
    "removing author id column as index"
   ]
  },
  {
   "cell_type": "code",
   "execution_count": 4,
   "id": "c8cf9bcf",
   "metadata": {},
   "outputs": [
    {
     "data": {
      "text/html": [
       "<div>\n",
       "<style scoped>\n",
       "    .dataframe tbody tr th:only-of-type {\n",
       "        vertical-align: middle;\n",
       "    }\n",
       "\n",
       "    .dataframe tbody tr th {\n",
       "        vertical-align: top;\n",
       "    }\n",
       "\n",
       "    .dataframe thead th {\n",
       "        text-align: right;\n",
       "    }\n",
       "</style>\n",
       "<table border=\"1\" class=\"dataframe\">\n",
       "  <thead>\n",
       "    <tr style=\"text-align: right;\">\n",
       "      <th></th>\n",
       "      <th>author_id</th>\n",
       "      <th>pratilipi_id</th>\n",
       "      <th>category_name</th>\n",
       "      <th>reading_time</th>\n",
       "      <th>updated_at</th>\n",
       "      <th>published_at</th>\n",
       "      <th>updated_at_date</th>\n",
       "      <th>updated_at_time</th>\n",
       "      <th>published_at_date</th>\n",
       "      <th>published_at_time</th>\n",
       "    </tr>\n",
       "  </thead>\n",
       "  <tbody>\n",
       "    <tr>\n",
       "      <th>0</th>\n",
       "      <td>-3.420000e+15</td>\n",
       "      <td>1.030000e+15</td>\n",
       "      <td>translation</td>\n",
       "      <td>0</td>\n",
       "      <td>19-08-2020 15.26</td>\n",
       "      <td>30-09-2016 10.37</td>\n",
       "      <td>19-08-2020</td>\n",
       "      <td>15.26</td>\n",
       "      <td>30-09-2016</td>\n",
       "      <td>10.37</td>\n",
       "    </tr>\n",
       "    <tr>\n",
       "      <th>1</th>\n",
       "      <td>-2.270000e+15</td>\n",
       "      <td>1.380000e+15</td>\n",
       "      <td>translation</td>\n",
       "      <td>171</td>\n",
       "      <td>21-01-2021 16.27</td>\n",
       "      <td>11-06-2018 13.17</td>\n",
       "      <td>21-01-2021</td>\n",
       "      <td>16.27</td>\n",
       "      <td>11-06-2018</td>\n",
       "      <td>13.17</td>\n",
       "    </tr>\n",
       "    <tr>\n",
       "      <th>2</th>\n",
       "      <td>-2.270000e+15</td>\n",
       "      <td>1.380000e+15</td>\n",
       "      <td>translation</td>\n",
       "      <td>92</td>\n",
       "      <td>29-09-2020 12.33</td>\n",
       "      <td>12-06-2018 4.19</td>\n",
       "      <td>29-09-2020</td>\n",
       "      <td>12.33</td>\n",
       "      <td>12-06-2018</td>\n",
       "      <td>4.19</td>\n",
       "    </tr>\n",
       "    <tr>\n",
       "      <th>3</th>\n",
       "      <td>-2.270000e+15</td>\n",
       "      <td>1.380000e+15</td>\n",
       "      <td>translation</td>\n",
       "      <td>0</td>\n",
       "      <td>17-10-2019 9.03</td>\n",
       "      <td>26-09-2019 14.58</td>\n",
       "      <td>17-10-2019</td>\n",
       "      <td>9.03</td>\n",
       "      <td>26-09-2019</td>\n",
       "      <td>14.58</td>\n",
       "    </tr>\n",
       "    <tr>\n",
       "      <th>4</th>\n",
       "      <td>-2.270000e+15</td>\n",
       "      <td>1.380000e+15</td>\n",
       "      <td>translation</td>\n",
       "      <td>47</td>\n",
       "      <td>05-05-2020 11.33</td>\n",
       "      <td>25-11-2018 12.28</td>\n",
       "      <td>05-05-2020</td>\n",
       "      <td>11.33</td>\n",
       "      <td>25-11-2018</td>\n",
       "      <td>12.28</td>\n",
       "    </tr>\n",
       "    <tr>\n",
       "      <th>...</th>\n",
       "      <td>...</td>\n",
       "      <td>...</td>\n",
       "      <td>...</td>\n",
       "      <td>...</td>\n",
       "      <td>...</td>\n",
       "      <td>...</td>\n",
       "      <td>...</td>\n",
       "      <td>...</td>\n",
       "      <td>...</td>\n",
       "      <td>...</td>\n",
       "    </tr>\n",
       "    <tr>\n",
       "      <th>954496</th>\n",
       "      <td>-2.270000e+15</td>\n",
       "      <td>1.380000e+15</td>\n",
       "      <td>Horror-Marathon</td>\n",
       "      <td>304</td>\n",
       "      <td>22-03-2022 17.40</td>\n",
       "      <td>22-03-2022 17.40</td>\n",
       "      <td>22-03-2022</td>\n",
       "      <td>17.40</td>\n",
       "      <td>22-03-2022</td>\n",
       "      <td>17.40</td>\n",
       "    </tr>\n",
       "    <tr>\n",
       "      <th>954497</th>\n",
       "      <td>-2.270000e+15</td>\n",
       "      <td>1.380000e+15</td>\n",
       "      <td>Horror-Marathon</td>\n",
       "      <td>588</td>\n",
       "      <td>22-03-2022 11.44</td>\n",
       "      <td>22-03-2022 11.44</td>\n",
       "      <td>22-03-2022</td>\n",
       "      <td>11.44</td>\n",
       "      <td>22-03-2022</td>\n",
       "      <td>11.44</td>\n",
       "    </tr>\n",
       "    <tr>\n",
       "      <th>954498</th>\n",
       "      <td>-2.270000e+15</td>\n",
       "      <td>1.380000e+15</td>\n",
       "      <td>Horror-Marathon</td>\n",
       "      <td>359</td>\n",
       "      <td>22-03-2022 12.39</td>\n",
       "      <td>22-03-2022 12.38</td>\n",
       "      <td>22-03-2022</td>\n",
       "      <td>12.39</td>\n",
       "      <td>22-03-2022</td>\n",
       "      <td>12.38</td>\n",
       "    </tr>\n",
       "    <tr>\n",
       "      <th>954499</th>\n",
       "      <td>-2.270000e+15</td>\n",
       "      <td>1.380000e+15</td>\n",
       "      <td>Horror-Marathon</td>\n",
       "      <td>310</td>\n",
       "      <td>23-03-2022 15.55</td>\n",
       "      <td>23-03-2022 15.55</td>\n",
       "      <td>23-03-2022</td>\n",
       "      <td>15.55</td>\n",
       "      <td>23-03-2022</td>\n",
       "      <td>15.55</td>\n",
       "    </tr>\n",
       "    <tr>\n",
       "      <th>954500</th>\n",
       "      <td>-2.270000e+15</td>\n",
       "      <td>1.380000e+15</td>\n",
       "      <td>Horror-Marathon</td>\n",
       "      <td>534</td>\n",
       "      <td>23-03-2022 10.52</td>\n",
       "      <td>23-03-2022 10.52</td>\n",
       "      <td>23-03-2022</td>\n",
       "      <td>10.52</td>\n",
       "      <td>23-03-2022</td>\n",
       "      <td>10.52</td>\n",
       "    </tr>\n",
       "  </tbody>\n",
       "</table>\n",
       "<p>954501 rows × 10 columns</p>\n",
       "</div>"
      ],
      "text/plain": [
       "           author_id  pratilipi_id    category_name  reading_time  \\\n",
       "0      -3.420000e+15  1.030000e+15      translation             0   \n",
       "1      -2.270000e+15  1.380000e+15      translation           171   \n",
       "2      -2.270000e+15  1.380000e+15      translation            92   \n",
       "3      -2.270000e+15  1.380000e+15      translation             0   \n",
       "4      -2.270000e+15  1.380000e+15      translation            47   \n",
       "...              ...           ...              ...           ...   \n",
       "954496 -2.270000e+15  1.380000e+15  Horror-Marathon           304   \n",
       "954497 -2.270000e+15  1.380000e+15  Horror-Marathon           588   \n",
       "954498 -2.270000e+15  1.380000e+15  Horror-Marathon           359   \n",
       "954499 -2.270000e+15  1.380000e+15  Horror-Marathon           310   \n",
       "954500 -2.270000e+15  1.380000e+15  Horror-Marathon           534   \n",
       "\n",
       "              updated_at      published_at updated_at_date  updated_at_time  \\\n",
       "0       19-08-2020 15.26  30-09-2016 10.37      19-08-2020            15.26   \n",
       "1       21-01-2021 16.27  11-06-2018 13.17      21-01-2021            16.27   \n",
       "2       29-09-2020 12.33   12-06-2018 4.19      29-09-2020            12.33   \n",
       "3        17-10-2019 9.03  26-09-2019 14.58      17-10-2019             9.03   \n",
       "4       05-05-2020 11.33  25-11-2018 12.28      05-05-2020            11.33   \n",
       "...                  ...               ...             ...              ...   \n",
       "954496  22-03-2022 17.40  22-03-2022 17.40      22-03-2022            17.40   \n",
       "954497  22-03-2022 11.44  22-03-2022 11.44      22-03-2022            11.44   \n",
       "954498  22-03-2022 12.39  22-03-2022 12.38      22-03-2022            12.39   \n",
       "954499  23-03-2022 15.55  23-03-2022 15.55      23-03-2022            15.55   \n",
       "954500  23-03-2022 10.52  23-03-2022 10.52      23-03-2022            10.52   \n",
       "\n",
       "       published_at_date  published_at_time  \n",
       "0             30-09-2016              10.37  \n",
       "1             11-06-2018              13.17  \n",
       "2             12-06-2018               4.19  \n",
       "3             26-09-2019              14.58  \n",
       "4             25-11-2018              12.28  \n",
       "...                  ...                ...  \n",
       "954496        22-03-2022              17.40  \n",
       "954497        22-03-2022              11.44  \n",
       "954498        22-03-2022              12.38  \n",
       "954499        23-03-2022              15.55  \n",
       "954500        23-03-2022              10.52  \n",
       "\n",
       "[954501 rows x 10 columns]"
      ]
     },
     "execution_count": 4,
     "metadata": {},
     "output_type": "execute_result"
    }
   ],
   "source": [
    "df = df.reset_index(level=0)\n",
    "df"
   ]
  },
  {
   "cell_type": "code",
   "execution_count": 5,
   "id": "1ce9c8c1",
   "metadata": {},
   "outputs": [
    {
     "data": {
      "text/plain": [
       "Index(['author_id', 'pratilipi_id', 'category_name', 'reading_time',\n",
       "       'updated_at', 'published_at', 'updated_at_date', 'updated_at_time',\n",
       "       'published_at_date', 'published_at_time'],\n",
       "      dtype='object')"
      ]
     },
     "execution_count": 5,
     "metadata": {},
     "output_type": "execute_result"
    }
   ],
   "source": [
    "df.columns\n",
    "#displaying all column names"
   ]
  },
  {
   "cell_type": "code",
   "execution_count": 6,
   "id": "e9c6c655",
   "metadata": {},
   "outputs": [
    {
     "data": {
      "text/plain": [
       "(954501, 10)"
      ]
     },
     "execution_count": 6,
     "metadata": {},
     "output_type": "execute_result"
    }
   ],
   "source": [
    "df.shape"
   ]
  },
  {
   "cell_type": "code",
   "execution_count": 7,
   "id": "11e4967c",
   "metadata": {},
   "outputs": [
    {
     "data": {
      "text/plain": [
       "author_id            float64\n",
       "pratilipi_id         float64\n",
       "category_name         object\n",
       "reading_time           int64\n",
       "updated_at            object\n",
       "published_at          object\n",
       "updated_at_date       object\n",
       "updated_at_time      float64\n",
       "published_at_date     object\n",
       "published_at_time    float64\n",
       "dtype: object"
      ]
     },
     "execution_count": 7,
     "metadata": {},
     "output_type": "execute_result"
    }
   ],
   "source": [
    "df.dtypes"
   ]
  },
  {
   "cell_type": "code",
   "execution_count": 8,
   "id": "99157e9b",
   "metadata": {},
   "outputs": [
    {
     "data": {
      "text/html": [
       "<div>\n",
       "<style scoped>\n",
       "    .dataframe tbody tr th:only-of-type {\n",
       "        vertical-align: middle;\n",
       "    }\n",
       "\n",
       "    .dataframe tbody tr th {\n",
       "        vertical-align: top;\n",
       "    }\n",
       "\n",
       "    .dataframe thead th {\n",
       "        text-align: right;\n",
       "    }\n",
       "</style>\n",
       "<table border=\"1\" class=\"dataframe\">\n",
       "  <thead>\n",
       "    <tr style=\"text-align: right;\">\n",
       "      <th></th>\n",
       "      <th>author_id</th>\n",
       "      <th>pratilipi_id</th>\n",
       "      <th>reading_time</th>\n",
       "      <th>updated_at_time</th>\n",
       "      <th>published_at_time</th>\n",
       "    </tr>\n",
       "  </thead>\n",
       "  <tbody>\n",
       "    <tr>\n",
       "      <th>count</th>\n",
       "      <td>9.545010e+05</td>\n",
       "      <td>9.545010e+05</td>\n",
       "      <td>954501.000000</td>\n",
       "      <td>954501.000000</td>\n",
       "      <td>954494.000000</td>\n",
       "    </tr>\n",
       "    <tr>\n",
       "      <th>mean</th>\n",
       "      <td>-2.379289e+15</td>\n",
       "      <td>1.370767e+15</td>\n",
       "      <td>351.979334</td>\n",
       "      <td>10.989287</td>\n",
       "      <td>11.249166</td>\n",
       "    </tr>\n",
       "    <tr>\n",
       "      <th>std</th>\n",
       "      <td>3.922847e+14</td>\n",
       "      <td>1.162846e+14</td>\n",
       "      <td>513.959547</td>\n",
       "      <td>5.494473</td>\n",
       "      <td>5.459552</td>\n",
       "    </tr>\n",
       "    <tr>\n",
       "      <th>min</th>\n",
       "      <td>-9.070000e+15</td>\n",
       "      <td>-8.730000e+14</td>\n",
       "      <td>0.000000</td>\n",
       "      <td>0.000000</td>\n",
       "      <td>0.000000</td>\n",
       "    </tr>\n",
       "    <tr>\n",
       "      <th>25%</th>\n",
       "      <td>-2.270000e+15</td>\n",
       "      <td>1.380000e+15</td>\n",
       "      <td>111.000000</td>\n",
       "      <td>6.500000</td>\n",
       "      <td>7.060000</td>\n",
       "    </tr>\n",
       "    <tr>\n",
       "      <th>50%</th>\n",
       "      <td>-2.270000e+15</td>\n",
       "      <td>1.380000e+15</td>\n",
       "      <td>256.000000</td>\n",
       "      <td>11.090000</td>\n",
       "      <td>11.330000</td>\n",
       "    </tr>\n",
       "    <tr>\n",
       "      <th>75%</th>\n",
       "      <td>-2.270000e+15</td>\n",
       "      <td>1.380000e+15</td>\n",
       "      <td>461.000000</td>\n",
       "      <td>15.480000</td>\n",
       "      <td>16.040000</td>\n",
       "    </tr>\n",
       "    <tr>\n",
       "      <th>max</th>\n",
       "      <td>-2.270000e+15</td>\n",
       "      <td>1.380000e+15</td>\n",
       "      <td>78983.000000</td>\n",
       "      <td>23.590000</td>\n",
       "      <td>23.590000</td>\n",
       "    </tr>\n",
       "  </tbody>\n",
       "</table>\n",
       "</div>"
      ],
      "text/plain": [
       "          author_id  pratilipi_id   reading_time  updated_at_time  \\\n",
       "count  9.545010e+05  9.545010e+05  954501.000000    954501.000000   \n",
       "mean  -2.379289e+15  1.370767e+15     351.979334        10.989287   \n",
       "std    3.922847e+14  1.162846e+14     513.959547         5.494473   \n",
       "min   -9.070000e+15 -8.730000e+14       0.000000         0.000000   \n",
       "25%   -2.270000e+15  1.380000e+15     111.000000         6.500000   \n",
       "50%   -2.270000e+15  1.380000e+15     256.000000        11.090000   \n",
       "75%   -2.270000e+15  1.380000e+15     461.000000        15.480000   \n",
       "max   -2.270000e+15  1.380000e+15   78983.000000        23.590000   \n",
       "\n",
       "       published_at_time  \n",
       "count      954494.000000  \n",
       "mean           11.249166  \n",
       "std             5.459552  \n",
       "min             0.000000  \n",
       "25%             7.060000  \n",
       "50%            11.330000  \n",
       "75%            16.040000  \n",
       "max            23.590000  "
      ]
     },
     "execution_count": 8,
     "metadata": {},
     "output_type": "execute_result"
    }
   ],
   "source": [
    "df.describe()\n",
    "#statistcial values of numeric columns"
   ]
  },
  {
   "cell_type": "markdown",
   "id": "fde06924",
   "metadata": {},
   "source": [
    "Checking and removing null values"
   ]
  },
  {
   "cell_type": "code",
   "execution_count": 9,
   "id": "a950e48d",
   "metadata": {},
   "outputs": [],
   "source": [
    "df=df.dropna(axis=0)"
   ]
  },
  {
   "cell_type": "code",
   "execution_count": 10,
   "id": "6fa88b79",
   "metadata": {},
   "outputs": [
    {
     "data": {
      "text/plain": [
       "author_id            0\n",
       "pratilipi_id         0\n",
       "category_name        0\n",
       "reading_time         0\n",
       "updated_at           0\n",
       "published_at         0\n",
       "updated_at_date      0\n",
       "updated_at_time      0\n",
       "published_at_date    0\n",
       "published_at_time    0\n",
       "dtype: int64"
      ]
     },
     "execution_count": 10,
     "metadata": {},
     "output_type": "execute_result"
    }
   ],
   "source": [
    "df.isna().sum()"
   ]
  },
  {
   "cell_type": "markdown",
   "id": "7e37e3fb",
   "metadata": {},
   "source": [
    "converting data columns from object to float dataype for sorting"
   ]
  },
  {
   "cell_type": "code",
   "execution_count": 11,
   "id": "4ff4644a",
   "metadata": {},
   "outputs": [
    {
     "name": "stderr",
     "output_type": "stream",
     "text": [
      "D:\\Anaconda\\envs\\test_gpu\\lib\\site-packages\\ipykernel_launcher.py:1: SettingWithCopyWarning: \n",
      "A value is trying to be set on a copy of a slice from a DataFrame.\n",
      "Try using .loc[row_indexer,col_indexer] = value instead\n",
      "\n",
      "See the caveats in the documentation: https://pandas.pydata.org/pandas-docs/stable/user_guide/indexing.html#returning-a-view-versus-a-copy\n",
      "  \"\"\"Entry point for launching an IPython kernel.\n",
      "D:\\Anaconda\\envs\\test_gpu\\lib\\site-packages\\ipykernel_launcher.py:2: SettingWithCopyWarning: \n",
      "A value is trying to be set on a copy of a slice from a DataFrame.\n",
      "Try using .loc[row_indexer,col_indexer] = value instead\n",
      "\n",
      "See the caveats in the documentation: https://pandas.pydata.org/pandas-docs/stable/user_guide/indexing.html#returning-a-view-versus-a-copy\n",
      "  \n"
     ]
    }
   ],
   "source": [
    "df['updated_at_time']=df['updated_at_time'].astype(float)\n",
    "df['published_at_time']=df['published_at_time'].astype(float)"
   ]
  },
  {
   "cell_type": "code",
   "execution_count": 12,
   "id": "33ba85e7",
   "metadata": {},
   "outputs": [
    {
     "data": {
      "text/plain": [
       "dtype('float64')"
      ]
     },
     "execution_count": 12,
     "metadata": {},
     "output_type": "execute_result"
    }
   ],
   "source": [
    "df['updated_at_time'].dtype"
   ]
  },
  {
   "cell_type": "code",
   "execution_count": 13,
   "id": "1e4e1d63",
   "metadata": {},
   "outputs": [
    {
     "data": {
      "text/html": [
       "<div>\n",
       "<style scoped>\n",
       "    .dataframe tbody tr th:only-of-type {\n",
       "        vertical-align: middle;\n",
       "    }\n",
       "\n",
       "    .dataframe tbody tr th {\n",
       "        vertical-align: top;\n",
       "    }\n",
       "\n",
       "    .dataframe thead th {\n",
       "        text-align: right;\n",
       "    }\n",
       "</style>\n",
       "<table border=\"1\" class=\"dataframe\">\n",
       "  <thead>\n",
       "    <tr style=\"text-align: right;\">\n",
       "      <th></th>\n",
       "      <th>author_id</th>\n",
       "      <th>pratilipi_id</th>\n",
       "      <th>category_name</th>\n",
       "      <th>reading_time</th>\n",
       "      <th>updated_at</th>\n",
       "      <th>published_at</th>\n",
       "      <th>updated_at_date</th>\n",
       "      <th>updated_at_time</th>\n",
       "      <th>published_at_date</th>\n",
       "      <th>published_at_time</th>\n",
       "    </tr>\n",
       "  </thead>\n",
       "  <tbody>\n",
       "    <tr>\n",
       "      <th>359502</th>\n",
       "      <td>-2.270000e+15</td>\n",
       "      <td>1.380000e+15</td>\n",
       "      <td>romance</td>\n",
       "      <td>289</td>\n",
       "      <td>27-12-2020 0.00</td>\n",
       "      <td>27-12-2020 0.00</td>\n",
       "      <td>27-12-2020</td>\n",
       "      <td>0.00</td>\n",
       "      <td>27-12-2020</td>\n",
       "      <td>0.00</td>\n",
       "    </tr>\n",
       "    <tr>\n",
       "      <th>383488</th>\n",
       "      <td>-2.270000e+15</td>\n",
       "      <td>1.380000e+15</td>\n",
       "      <td>romance</td>\n",
       "      <td>313</td>\n",
       "      <td>08-05-2021 0.00</td>\n",
       "      <td>08-05-2021 0.00</td>\n",
       "      <td>08-05-2021</td>\n",
       "      <td>0.00</td>\n",
       "      <td>08-05-2021</td>\n",
       "      <td>0.00</td>\n",
       "    </tr>\n",
       "    <tr>\n",
       "      <th>467197</th>\n",
       "      <td>-2.270000e+15</td>\n",
       "      <td>1.380000e+15</td>\n",
       "      <td>romance</td>\n",
       "      <td>6</td>\n",
       "      <td>14-03-2022 0.00</td>\n",
       "      <td>14-03-2022 0.00</td>\n",
       "      <td>14-03-2022</td>\n",
       "      <td>0.00</td>\n",
       "      <td>14-03-2022</td>\n",
       "      <td>0.00</td>\n",
       "    </tr>\n",
       "    <tr>\n",
       "      <th>266381</th>\n",
       "      <td>-2.270000e+15</td>\n",
       "      <td>1.380000e+15</td>\n",
       "      <td>Pratilipi-kalamkar-samman</td>\n",
       "      <td>170</td>\n",
       "      <td>26-06-2021 0.00</td>\n",
       "      <td>26-06-2021 0.00</td>\n",
       "      <td>26-06-2021</td>\n",
       "      <td>0.00</td>\n",
       "      <td>26-06-2021</td>\n",
       "      <td>0.00</td>\n",
       "    </tr>\n",
       "    <tr>\n",
       "      <th>467194</th>\n",
       "      <td>-2.270000e+15</td>\n",
       "      <td>1.380000e+15</td>\n",
       "      <td>romance</td>\n",
       "      <td>4</td>\n",
       "      <td>14-03-2022 0.00</td>\n",
       "      <td>14-03-2022 0.00</td>\n",
       "      <td>14-03-2022</td>\n",
       "      <td>0.00</td>\n",
       "      <td>14-03-2022</td>\n",
       "      <td>0.00</td>\n",
       "    </tr>\n",
       "    <tr>\n",
       "      <th>...</th>\n",
       "      <td>...</td>\n",
       "      <td>...</td>\n",
       "      <td>...</td>\n",
       "      <td>...</td>\n",
       "      <td>...</td>\n",
       "      <td>...</td>\n",
       "      <td>...</td>\n",
       "      <td>...</td>\n",
       "      <td>...</td>\n",
       "      <td>...</td>\n",
       "    </tr>\n",
       "    <tr>\n",
       "      <th>807376</th>\n",
       "      <td>-2.270000e+15</td>\n",
       "      <td>1.380000e+15</td>\n",
       "      <td>social</td>\n",
       "      <td>882</td>\n",
       "      <td>23-01-2020 23.59</td>\n",
       "      <td>23-01-2020 23.59</td>\n",
       "      <td>23-01-2020</td>\n",
       "      <td>23.59</td>\n",
       "      <td>23-01-2020</td>\n",
       "      <td>23.59</td>\n",
       "    </tr>\n",
       "    <tr>\n",
       "      <th>676555</th>\n",
       "      <td>-2.270000e+15</td>\n",
       "      <td>1.380000e+15</td>\n",
       "      <td>webseries</td>\n",
       "      <td>239</td>\n",
       "      <td>17-07-2020 23.59</td>\n",
       "      <td>17-07-2020 22.15</td>\n",
       "      <td>17-07-2020</td>\n",
       "      <td>23.59</td>\n",
       "      <td>17-07-2020</td>\n",
       "      <td>22.15</td>\n",
       "    </tr>\n",
       "    <tr>\n",
       "      <th>443134</th>\n",
       "      <td>-2.270000e+15</td>\n",
       "      <td>1.380000e+15</td>\n",
       "      <td>romance</td>\n",
       "      <td>57</td>\n",
       "      <td>23-12-2021 23.59</td>\n",
       "      <td>23-12-2021 23.59</td>\n",
       "      <td>23-12-2021</td>\n",
       "      <td>23.59</td>\n",
       "      <td>23-12-2021</td>\n",
       "      <td>23.59</td>\n",
       "    </tr>\n",
       "    <tr>\n",
       "      <th>934757</th>\n",
       "      <td>-2.270000e+15</td>\n",
       "      <td>1.380000e+15</td>\n",
       "      <td>horror</td>\n",
       "      <td>203</td>\n",
       "      <td>18-11-2020 23.59</td>\n",
       "      <td>18-11-2020 23.59</td>\n",
       "      <td>18-11-2020</td>\n",
       "      <td>23.59</td>\n",
       "      <td>18-11-2020</td>\n",
       "      <td>23.59</td>\n",
       "    </tr>\n",
       "    <tr>\n",
       "      <th>421254</th>\n",
       "      <td>-2.270000e+15</td>\n",
       "      <td>1.380000e+15</td>\n",
       "      <td>romance</td>\n",
       "      <td>428</td>\n",
       "      <td>28-09-2021 23.59</td>\n",
       "      <td>28-09-2021 23.59</td>\n",
       "      <td>28-09-2021</td>\n",
       "      <td>23.59</td>\n",
       "      <td>28-09-2021</td>\n",
       "      <td>23.59</td>\n",
       "    </tr>\n",
       "  </tbody>\n",
       "</table>\n",
       "<p>954494 rows × 10 columns</p>\n",
       "</div>"
      ],
      "text/plain": [
       "           author_id  pratilipi_id              category_name  reading_time  \\\n",
       "359502 -2.270000e+15  1.380000e+15                    romance           289   \n",
       "383488 -2.270000e+15  1.380000e+15                    romance           313   \n",
       "467197 -2.270000e+15  1.380000e+15                    romance             6   \n",
       "266381 -2.270000e+15  1.380000e+15  Pratilipi-kalamkar-samman           170   \n",
       "467194 -2.270000e+15  1.380000e+15                    romance             4   \n",
       "...              ...           ...                        ...           ...   \n",
       "807376 -2.270000e+15  1.380000e+15                     social           882   \n",
       "676555 -2.270000e+15  1.380000e+15                  webseries           239   \n",
       "443134 -2.270000e+15  1.380000e+15                    romance            57   \n",
       "934757 -2.270000e+15  1.380000e+15                     horror           203   \n",
       "421254 -2.270000e+15  1.380000e+15                    romance           428   \n",
       "\n",
       "              updated_at      published_at updated_at_date  updated_at_time  \\\n",
       "359502   27-12-2020 0.00   27-12-2020 0.00      27-12-2020             0.00   \n",
       "383488   08-05-2021 0.00   08-05-2021 0.00      08-05-2021             0.00   \n",
       "467197   14-03-2022 0.00   14-03-2022 0.00      14-03-2022             0.00   \n",
       "266381   26-06-2021 0.00   26-06-2021 0.00      26-06-2021             0.00   \n",
       "467194   14-03-2022 0.00   14-03-2022 0.00      14-03-2022             0.00   \n",
       "...                  ...               ...             ...              ...   \n",
       "807376  23-01-2020 23.59  23-01-2020 23.59      23-01-2020            23.59   \n",
       "676555  17-07-2020 23.59  17-07-2020 22.15      17-07-2020            23.59   \n",
       "443134  23-12-2021 23.59  23-12-2021 23.59      23-12-2021            23.59   \n",
       "934757  18-11-2020 23.59  18-11-2020 23.59      18-11-2020            23.59   \n",
       "421254  28-09-2021 23.59  28-09-2021 23.59      28-09-2021            23.59   \n",
       "\n",
       "       published_at_date  published_at_time  \n",
       "359502        27-12-2020               0.00  \n",
       "383488        08-05-2021               0.00  \n",
       "467197        14-03-2022               0.00  \n",
       "266381        26-06-2021               0.00  \n",
       "467194        14-03-2022               0.00  \n",
       "...                  ...                ...  \n",
       "807376        23-01-2020              23.59  \n",
       "676555        17-07-2020              22.15  \n",
       "443134        23-12-2021              23.59  \n",
       "934757        18-11-2020              23.59  \n",
       "421254        28-09-2021              23.59  \n",
       "\n",
       "[954494 rows x 10 columns]"
      ]
     },
     "execution_count": 13,
     "metadata": {},
     "output_type": "execute_result"
    }
   ],
   "source": [
    "df=df.sort_values(by='updated_at_time',ascending=True)\n",
    "df"
   ]
  },
  {
   "cell_type": "code",
   "execution_count": 14,
   "id": "9301aabe",
   "metadata": {},
   "outputs": [],
   "source": [
    "df = df.reset_index(level=0)"
   ]
  },
  {
   "cell_type": "markdown",
   "id": "97a77cb7",
   "metadata": {},
   "source": [
    "removing date columns as it contains many unique values "
   ]
  },
  {
   "cell_type": "code",
   "execution_count": 15,
   "id": "61721a4c",
   "metadata": {},
   "outputs": [],
   "source": [
    "df=df.drop(['updated_at','published_at'], axis=1)"
   ]
  },
  {
   "cell_type": "code",
   "execution_count": 16,
   "id": "9066c12a",
   "metadata": {},
   "outputs": [
    {
     "data": {
      "text/html": [
       "<div>\n",
       "<style scoped>\n",
       "    .dataframe tbody tr th:only-of-type {\n",
       "        vertical-align: middle;\n",
       "    }\n",
       "\n",
       "    .dataframe tbody tr th {\n",
       "        vertical-align: top;\n",
       "    }\n",
       "\n",
       "    .dataframe thead th {\n",
       "        text-align: right;\n",
       "    }\n",
       "</style>\n",
       "<table border=\"1\" class=\"dataframe\">\n",
       "  <thead>\n",
       "    <tr style=\"text-align: right;\">\n",
       "      <th></th>\n",
       "      <th>index</th>\n",
       "      <th>author_id</th>\n",
       "      <th>pratilipi_id</th>\n",
       "      <th>category_name</th>\n",
       "      <th>reading_time</th>\n",
       "      <th>updated_at_date</th>\n",
       "      <th>updated_at_time</th>\n",
       "      <th>published_at_date</th>\n",
       "      <th>published_at_time</th>\n",
       "    </tr>\n",
       "  </thead>\n",
       "  <tbody>\n",
       "    <tr>\n",
       "      <th>0</th>\n",
       "      <td>359502</td>\n",
       "      <td>-2.270000e+15</td>\n",
       "      <td>1.380000e+15</td>\n",
       "      <td>romance</td>\n",
       "      <td>289</td>\n",
       "      <td>27-12-2020</td>\n",
       "      <td>0.0</td>\n",
       "      <td>27-12-2020</td>\n",
       "      <td>0.0</td>\n",
       "    </tr>\n",
       "    <tr>\n",
       "      <th>1</th>\n",
       "      <td>383488</td>\n",
       "      <td>-2.270000e+15</td>\n",
       "      <td>1.380000e+15</td>\n",
       "      <td>romance</td>\n",
       "      <td>313</td>\n",
       "      <td>08-05-2021</td>\n",
       "      <td>0.0</td>\n",
       "      <td>08-05-2021</td>\n",
       "      <td>0.0</td>\n",
       "    </tr>\n",
       "  </tbody>\n",
       "</table>\n",
       "</div>"
      ],
      "text/plain": [
       "    index     author_id  pratilipi_id category_name  reading_time  \\\n",
       "0  359502 -2.270000e+15  1.380000e+15       romance           289   \n",
       "1  383488 -2.270000e+15  1.380000e+15       romance           313   \n",
       "\n",
       "  updated_at_date  updated_at_time published_at_date  published_at_time  \n",
       "0      27-12-2020              0.0        27-12-2020                0.0  \n",
       "1      08-05-2021              0.0        08-05-2021                0.0  "
      ]
     },
     "execution_count": 16,
     "metadata": {},
     "output_type": "execute_result"
    }
   ],
   "source": [
    "df.head(2)"
   ]
  },
  {
   "cell_type": "code",
   "execution_count": 17,
   "id": "c9cae2f3",
   "metadata": {},
   "outputs": [],
   "source": [
    "df['updated_at_date'] = pd.to_datetime(df[\"updated_at_date\"])\n",
    "df['published_at_date'] = pd.to_datetime(df[\"published_at_date\"])"
   ]
  },
  {
   "cell_type": "code",
   "execution_count": 18,
   "id": "883c9c84",
   "metadata": {},
   "outputs": [
    {
     "data": {
      "text/plain": [
       "'2014-02-11 to 2022-12-03'"
      ]
     },
     "execution_count": 18,
     "metadata": {},
     "output_type": "execute_result"
    }
   ],
   "source": [
    "date_range = str(df['published_at_date'].dt.date.min()) + ' to ' +str(df['published_at_date'].dt.date.max())\n",
    "date_range"
   ]
  },
  {
   "cell_type": "code",
   "execution_count": 19,
   "id": "80209ef5",
   "metadata": {},
   "outputs": [
    {
     "data": {
      "text/plain": [
       "index                         int64\n",
       "author_id                   float64\n",
       "pratilipi_id                float64\n",
       "category_name                object\n",
       "reading_time                  int64\n",
       "updated_at_date      datetime64[ns]\n",
       "updated_at_time             float64\n",
       "published_at_date    datetime64[ns]\n",
       "published_at_time           float64\n",
       "dtype: object"
      ]
     },
     "execution_count": 19,
     "metadata": {},
     "output_type": "execute_result"
    }
   ],
   "source": [
    "df.dtypes"
   ]
  },
  {
   "cell_type": "markdown",
   "id": "e78c08d1",
   "metadata": {},
   "source": [
    "plotting correlation matrix"
   ]
  },
  {
   "cell_type": "code",
   "execution_count": 20,
   "id": "b7816b44",
   "metadata": {},
   "outputs": [
    {
     "data": {
      "text/plain": [
       "(6.5, -0.5)"
      ]
     },
     "execution_count": 20,
     "metadata": {},
     "output_type": "execute_result"
    },
    {
     "data": {
      "image/png": "[encoded data removed]",
      "text/plain": [
       "<Figure size 1080x1080 with 2 Axes>"
      ]
     },
     "metadata": {},
     "output_type": "display_data"
    }
   ],
   "source": [
    "corr_matrix = df.corr()\n",
    "fig, ax = plt.subplots(figsize=(15, 15))\n",
    "ax = sns.heatmap(corr_matrix,\n",
    "                 annot=True,\n",
    "                 linewidths=0.5,\n",
    "                 fmt=\".2f\",\n",
    "                 cmap=\"YlGnBu\");\n",
    "bottom, top = ax.get_ylim()\n",
    "ax.set_ylim(bottom + 0.5, top - 0.5)"
   ]
  },
  {
   "cell_type": "code",
   "execution_count": 21,
   "id": "76684065",
   "metadata": {},
   "outputs": [
    {
     "data": {
      "text/plain": [
       "array(['romance', 'Pratilipi-kalamkar-samman', 'entertainment', 'novels',\n",
       "       'women', 'moral-inspiring', 'family', 'murder-mystery', 'suspense',\n",
       "       'shortstories', 'erotica', 'social', 'premkamahina',\n",
       "       'experiences-and-memories', 'life', 'Indiawale',\n",
       "       'relegion-and-spiritual', 'children', 'horror', 'crime-lekhan',\n",
       "       'action-and-adventure', 'crime', 'detective',\n",
       "       'Pratilipi-Awards-Hindi', 'webseries', 'mythology', 'drama',\n",
       "       'Parytan', 'translation', 'short-story-challenge',\n",
       "       'Horror-Marathon', 'fantasy', 'science-fiction', 'swahindi2',\n",
       "       'pratilipi-kids', 'Serieswriting', 'politics', 'comedy',\n",
       "       'pravasi-sahitya', 'Rashtriya', 'health-and-wellness',\n",
       "       'The-Chat-Story', 'krishi-jeevan', 'Radio-Fiction',\n",
       "       'cyber-crime-fiction'], dtype=object)"
      ]
     },
     "execution_count": 21,
     "metadata": {},
     "output_type": "execute_result"
    }
   ],
   "source": [
    "df.category_name.unique()\n",
    "#for displaying unique category names"
   ]
  },
  {
   "cell_type": "code",
   "execution_count": 22,
   "id": "d9c193e5",
   "metadata": {},
   "outputs": [
    {
     "data": {
      "text/plain": [
       "45"
      ]
     },
     "execution_count": 22,
     "metadata": {},
     "output_type": "execute_result"
    }
   ],
   "source": [
    "df.category_name.nunique()"
   ]
  },
  {
   "cell_type": "markdown",
   "id": "38369d32",
   "metadata": {},
   "source": [
    "Displaying and plotting cataegory counts to check data imbalance"
   ]
  },
  {
   "cell_type": "code",
   "execution_count": 23,
   "id": "3740837f",
   "metadata": {},
   "outputs": [
    {
     "data": {
      "text/plain": [
       "romance                      193218\n",
       "shortstories                 102096\n",
       "social                        73919\n",
       "suspense                      64041\n",
       "family                        58515\n",
       "novels                        53584\n",
       "life                          51356\n",
       "moral-inspiring               47421\n",
       "women                         37167\n",
       "horror                        28506\n",
       "entertainment                 23362\n",
       "action-and-adventure          21589\n",
       "experiences-and-memories      20275\n",
       "webseries                     16227\n",
       "relegion-and-spiritual        15476\n",
       "comedy                        14893\n",
       "Pratilipi-kalamkar-samman     13237\n",
       "mythology                     12323\n",
       "children                      10196\n",
       "Indiawale                      9674\n",
       "Pratilipi-Awards-Hindi         9342\n",
       "fantasy                        9324\n",
       "swahindi2                      7853\n",
       "drama                          7387\n",
       "crime                          7151\n",
       "politics                       5810\n",
       "translation                    4250\n",
       "short-story-challenge          3534\n",
       "murder-mystery                 3491\n",
       "Serieswriting                  3297\n",
       "Horror-Marathon                2973\n",
       "crime-lekhan                   2966\n",
       "health-and-wellness            2874\n",
       "science-fiction                2813\n",
       "pratilipi-kids                 2676\n",
       "detective                      2229\n",
       "premkamahina                   1971\n",
       "krishi-jeevan                  1751\n",
       "The-Chat-Story                 1635\n",
       "Parytan                        1462\n",
       "pravasi-sahitya                 864\n",
       "cyber-crime-fiction             487\n",
       "Radio-Fiction                   470\n",
       "Rashtriya                       446\n",
       "erotica                         363\n",
       "Name: category_name, dtype: int64"
      ]
     },
     "execution_count": 23,
     "metadata": {},
     "output_type": "execute_result"
    }
   ],
   "source": [
    "df.category_name.value_counts()"
   ]
  },
  {
   "cell_type": "code",
   "execution_count": 24,
   "id": "7faacd94",
   "metadata": {},
   "outputs": [
    {
     "data": {
      "text/plain": [
       "<AxesSubplot:>"
      ]
     },
     "execution_count": 24,
     "metadata": {},
     "output_type": "execute_result"
    },
    {
     "data": {
      "image/png": "[encoded data removed]",
      "text/plain": [
       "<Figure size 1080x576 with 1 Axes>"
      ]
     },
     "metadata": {},
     "output_type": "display_data"
    }
   ],
   "source": [
    "sns.set(rc = {'figure.figsize':(15,8)})\n",
    "df.category_name.value_counts().plot(kind=\"bar\", color=[\"salmon\", \"lightblue\"])"
   ]
  },
  {
   "cell_type": "markdown",
   "id": "ee595c1e",
   "metadata": {},
   "source": [
    "The provided data ih highly imbalanced. This would create bais againts majority classes like romance and shortstories "
   ]
  },
  {
   "cell_type": "code",
   "execution_count": 25,
   "id": "45398a6d",
   "metadata": {},
   "outputs": [
    {
     "name": "stderr",
     "output_type": "stream",
     "text": [
      "D:\\Anaconda\\envs\\test_gpu\\lib\\site-packages\\seaborn\\distributions.py:2619: FutureWarning: `distplot` is a deprecated function and will be removed in a future version. Please adapt your code to use either `displot` (a figure-level function with similar flexibility) or `histplot` (an axes-level function for histograms).\n",
      "  warnings.warn(msg, FutureWarning)\n"
     ]
    },
    {
     "data": {
      "text/plain": [
       "(0.0, 4000.0)"
      ]
     },
     "execution_count": 25,
     "metadata": {},
     "output_type": "execute_result"
    },
    {
     "data": {
      "image/png": "[encoded data removed]",
      "text/plain": [
       "<Figure size 1080x576 with 1 Axes>"
      ]
     },
     "metadata": {},
     "output_type": "display_data"
    }
   ],
   "source": [
    "sns.distplot(df.reading_time)\n",
    "plt.xlim(0,4000)\n",
    "#plotting distribution plot to check whether the reading_time column has a normal distribution"
   ]
  },
  {
   "cell_type": "code",
   "execution_count": 26,
   "id": "d3c37ceb",
   "metadata": {},
   "outputs": [
    {
     "data": {
      "text/plain": [
       "index                 0.000001\n",
       "author_id            -3.807791\n",
       "pratilipi_id        -14.069535\n",
       "reading_time         32.821521\n",
       "updated_at_time      -0.016408\n",
       "published_at_time    -0.085543\n",
       "dtype: float64"
      ]
     },
     "execution_count": 26,
     "metadata": {},
     "output_type": "execute_result"
    }
   ],
   "source": [
    "df.skew(axis = 0, skipna = True)\n",
    "#checking skew values for numeric columns\n",
    "\n",
    "#skewness = 0 : normally distributed.\n",
    "#skewness > 0 : more weight in the left tail of the distribution.\n",
    "#skewness < 0 : more weight in the right tail of the distribution. "
   ]
  },
  {
   "cell_type": "markdown",
   "id": "af71271f",
   "metadata": {},
   "source": [
    "shows the distribution of reading_time values are highly skewed"
   ]
  },
  {
   "cell_type": "code",
   "execution_count": 27,
   "id": "93406b95",
   "metadata": {},
   "outputs": [],
   "source": [
    "from sklearn.preprocessing import StandardScaler"
   ]
  },
  {
   "cell_type": "code",
   "execution_count": 28,
   "id": "a110f9d2",
   "metadata": {},
   "outputs": [],
   "source": [
    "Scaler=StandardScaler()\n",
    "reading_time_scaled=Scaler.fit_transform(df[['reading_time']])\n",
    "#attempt at removing skewness using standrad deviation"
   ]
  },
  {
   "cell_type": "code",
   "execution_count": 29,
   "id": "8e8dad81",
   "metadata": {},
   "outputs": [
    {
     "name": "stderr",
     "output_type": "stream",
     "text": [
      "D:\\Anaconda\\envs\\test_gpu\\lib\\site-packages\\seaborn\\distributions.py:2619: FutureWarning: `distplot` is a deprecated function and will be removed in a future version. Please adapt your code to use either `displot` (a figure-level function with similar flexibility) or `histplot` (an axes-level function for histograms).\n",
      "  warnings.warn(msg, FutureWarning)\n"
     ]
    },
    {
     "data": {
      "text/plain": [
       "<AxesSubplot:ylabel='Density'>"
      ]
     },
     "execution_count": 29,
     "metadata": {},
     "output_type": "execute_result"
    },
    {
     "data": {
      "image/png": "[encoded data removed]",
      "text/plain": [
       "<Figure size 1080x576 with 1 Axes>"
      ]
     },
     "metadata": {},
     "output_type": "display_data"
    }
   ],
   "source": [
    "sns.distplot(reading_time_scaled)"
   ]
  },
  {
   "cell_type": "markdown",
   "id": "18684c32",
   "metadata": {},
   "source": [
    "It can be seen apply standardization is not rectifying the skewness "
   ]
  },
  {
   "cell_type": "code",
   "execution_count": 30,
   "id": "6b562b7b",
   "metadata": {},
   "outputs": [],
   "source": [
    "#df.reading_time=np.log(df.reading_time)"
   ]
  },
  {
   "cell_type": "code",
   "execution_count": 31,
   "id": "c13a710b",
   "metadata": {},
   "outputs": [],
   "source": [
    "#df['updated_at'] = pd.to_datetime(df['updated_at'],dayfirst=True)"
   ]
  },
  {
   "cell_type": "markdown",
   "id": "c812559c",
   "metadata": {},
   "source": [
    "Ckecking for outliers using boxplot"
   ]
  },
  {
   "cell_type": "code",
   "execution_count": 32,
   "id": "a7076f24",
   "metadata": {},
   "outputs": [
    {
     "data": {
      "text/plain": [
       "<AxesSubplot:>"
      ]
     },
     "execution_count": 32,
     "metadata": {},
     "output_type": "execute_result"
    },
    {
     "data": {
      "image/png": "[encoded data removed]",
      "text/plain": [
       "<Figure size 1080x576 with 1 Axes>"
      ]
     },
     "metadata": {},
     "output_type": "display_data"
    }
   ],
   "source": [
    "sns.boxplot(data=df.reading_time)"
   ]
  },
  {
   "cell_type": "code",
   "execution_count": 33,
   "id": "9f54ae9b",
   "metadata": {},
   "outputs": [
    {
     "name": "stderr",
     "output_type": "stream",
     "text": [
      "D:\\Anaconda\\envs\\test_gpu\\lib\\site-packages\\pandas\\core\\series.py:726: RuntimeWarning: divide by zero encountered in log\n",
      "  result = getattr(ufunc, method)(*inputs, **kwargs)\n",
      "D:\\Anaconda\\envs\\test_gpu\\lib\\site-packages\\ipykernel_launcher.py:1: UserWarning: Pandas doesn't allow columns to be created via a new attribute name - see https://pandas.pydata.org/pandas-docs/stable/indexing.html#attribute-access\n",
      "  \"\"\"Entry point for launching an IPython kernel.\n"
     ]
    }
   ],
   "source": [
    "df.reading_time1=np.log(df.reading_time)"
   ]
  },
  {
   "cell_type": "code",
   "execution_count": 34,
   "id": "c6aee1e9",
   "metadata": {},
   "outputs": [
    {
     "data": {
      "text/plain": [
       "<AxesSubplot:>"
      ]
     },
     "execution_count": 34,
     "metadata": {},
     "output_type": "execute_result"
    },
    {
     "data": {
      "image/png": "[encoded data removed]",
      "text/plain": [
       "<Figure size 1080x576 with 1 Axes>"
      ]
     },
     "metadata": {},
     "output_type": "display_data"
    }
   ],
   "source": [
    "sns.boxplot(data=df.reading_time1)"
   ]
  },
  {
   "cell_type": "code",
   "execution_count": 35,
   "id": "16b3cac8",
   "metadata": {},
   "outputs": [
    {
     "data": {
      "text/plain": [
       "Index(['index', 'author_id', 'pratilipi_id', 'category_name', 'reading_time',\n",
       "       'updated_at_date', 'updated_at_time', 'published_at_date',\n",
       "       'published_at_time'],\n",
       "      dtype='object')"
      ]
     },
     "execution_count": 35,
     "metadata": {},
     "output_type": "execute_result"
    }
   ],
   "source": [
    "df.columns"
   ]
  },
  {
   "cell_type": "code",
   "execution_count": 36,
   "id": "1fe19d8d",
   "metadata": {},
   "outputs": [
    {
     "data": {
      "text/plain": [
       "index                         int64\n",
       "author_id                   float64\n",
       "pratilipi_id                float64\n",
       "category_name                object\n",
       "reading_time                  int64\n",
       "updated_at_date      datetime64[ns]\n",
       "updated_at_time             float64\n",
       "published_at_date    datetime64[ns]\n",
       "published_at_time           float64\n",
       "dtype: object"
      ]
     },
     "execution_count": 36,
     "metadata": {},
     "output_type": "execute_result"
    }
   ],
   "source": [
    "df.dtypes"
   ]
  },
  {
   "cell_type": "markdown",
   "id": "bdb273a5",
   "metadata": {},
   "source": [
    "assigning input and output variables"
   ]
  },
  {
   "cell_type": "code",
   "execution_count": 37,
   "id": "70ee2f66",
   "metadata": {},
   "outputs": [],
   "source": [
    "X=df.drop(['category_name','index'], axis=1)\n",
    "y=df[['category_name']]"
   ]
  },
  {
   "cell_type": "code",
   "execution_count": 38,
   "id": "ad859cf9",
   "metadata": {},
   "outputs": [
    {
     "data": {
      "text/html": [
       "<div>\n",
       "<style scoped>\n",
       "    .dataframe tbody tr th:only-of-type {\n",
       "        vertical-align: middle;\n",
       "    }\n",
       "\n",
       "    .dataframe tbody tr th {\n",
       "        vertical-align: top;\n",
       "    }\n",
       "\n",
       "    .dataframe thead th {\n",
       "        text-align: right;\n",
       "    }\n",
       "</style>\n",
       "<table border=\"1\" class=\"dataframe\">\n",
       "  <thead>\n",
       "    <tr style=\"text-align: right;\">\n",
       "      <th></th>\n",
       "      <th>author_id</th>\n",
       "      <th>pratilipi_id</th>\n",
       "      <th>reading_time</th>\n",
       "      <th>updated_at_date</th>\n",
       "      <th>updated_at_time</th>\n",
       "      <th>published_at_date</th>\n",
       "      <th>published_at_time</th>\n",
       "    </tr>\n",
       "  </thead>\n",
       "  <tbody>\n",
       "    <tr>\n",
       "      <th>0</th>\n",
       "      <td>-2.270000e+15</td>\n",
       "      <td>1.380000e+15</td>\n",
       "      <td>289</td>\n",
       "      <td>2020-12-27</td>\n",
       "      <td>0.00</td>\n",
       "      <td>2020-12-27</td>\n",
       "      <td>0.00</td>\n",
       "    </tr>\n",
       "    <tr>\n",
       "      <th>1</th>\n",
       "      <td>-2.270000e+15</td>\n",
       "      <td>1.380000e+15</td>\n",
       "      <td>313</td>\n",
       "      <td>2021-08-05</td>\n",
       "      <td>0.00</td>\n",
       "      <td>2021-08-05</td>\n",
       "      <td>0.00</td>\n",
       "    </tr>\n",
       "    <tr>\n",
       "      <th>2</th>\n",
       "      <td>-2.270000e+15</td>\n",
       "      <td>1.380000e+15</td>\n",
       "      <td>6</td>\n",
       "      <td>2022-03-14</td>\n",
       "      <td>0.00</td>\n",
       "      <td>2022-03-14</td>\n",
       "      <td>0.00</td>\n",
       "    </tr>\n",
       "    <tr>\n",
       "      <th>3</th>\n",
       "      <td>-2.270000e+15</td>\n",
       "      <td>1.380000e+15</td>\n",
       "      <td>170</td>\n",
       "      <td>2021-06-26</td>\n",
       "      <td>0.00</td>\n",
       "      <td>2021-06-26</td>\n",
       "      <td>0.00</td>\n",
       "    </tr>\n",
       "    <tr>\n",
       "      <th>4</th>\n",
       "      <td>-2.270000e+15</td>\n",
       "      <td>1.380000e+15</td>\n",
       "      <td>4</td>\n",
       "      <td>2022-03-14</td>\n",
       "      <td>0.00</td>\n",
       "      <td>2022-03-14</td>\n",
       "      <td>0.00</td>\n",
       "    </tr>\n",
       "    <tr>\n",
       "      <th>...</th>\n",
       "      <td>...</td>\n",
       "      <td>...</td>\n",
       "      <td>...</td>\n",
       "      <td>...</td>\n",
       "      <td>...</td>\n",
       "      <td>...</td>\n",
       "      <td>...</td>\n",
       "    </tr>\n",
       "    <tr>\n",
       "      <th>954489</th>\n",
       "      <td>-2.270000e+15</td>\n",
       "      <td>1.380000e+15</td>\n",
       "      <td>882</td>\n",
       "      <td>2020-01-23</td>\n",
       "      <td>23.59</td>\n",
       "      <td>2020-01-23</td>\n",
       "      <td>23.59</td>\n",
       "    </tr>\n",
       "    <tr>\n",
       "      <th>954490</th>\n",
       "      <td>-2.270000e+15</td>\n",
       "      <td>1.380000e+15</td>\n",
       "      <td>239</td>\n",
       "      <td>2020-07-17</td>\n",
       "      <td>23.59</td>\n",
       "      <td>2020-07-17</td>\n",
       "      <td>22.15</td>\n",
       "    </tr>\n",
       "    <tr>\n",
       "      <th>954491</th>\n",
       "      <td>-2.270000e+15</td>\n",
       "      <td>1.380000e+15</td>\n",
       "      <td>57</td>\n",
       "      <td>2021-12-23</td>\n",
       "      <td>23.59</td>\n",
       "      <td>2021-12-23</td>\n",
       "      <td>23.59</td>\n",
       "    </tr>\n",
       "    <tr>\n",
       "      <th>954492</th>\n",
       "      <td>-2.270000e+15</td>\n",
       "      <td>1.380000e+15</td>\n",
       "      <td>203</td>\n",
       "      <td>2020-11-18</td>\n",
       "      <td>23.59</td>\n",
       "      <td>2020-11-18</td>\n",
       "      <td>23.59</td>\n",
       "    </tr>\n",
       "    <tr>\n",
       "      <th>954493</th>\n",
       "      <td>-2.270000e+15</td>\n",
       "      <td>1.380000e+15</td>\n",
       "      <td>428</td>\n",
       "      <td>2021-09-28</td>\n",
       "      <td>23.59</td>\n",
       "      <td>2021-09-28</td>\n",
       "      <td>23.59</td>\n",
       "    </tr>\n",
       "  </tbody>\n",
       "</table>\n",
       "<p>954494 rows × 7 columns</p>\n",
       "</div>"
      ],
      "text/plain": [
       "           author_id  pratilipi_id  reading_time updated_at_date  \\\n",
       "0      -2.270000e+15  1.380000e+15           289      2020-12-27   \n",
       "1      -2.270000e+15  1.380000e+15           313      2021-08-05   \n",
       "2      -2.270000e+15  1.380000e+15             6      2022-03-14   \n",
       "3      -2.270000e+15  1.380000e+15           170      2021-06-26   \n",
       "4      -2.270000e+15  1.380000e+15             4      2022-03-14   \n",
       "...              ...           ...           ...             ...   \n",
       "954489 -2.270000e+15  1.380000e+15           882      2020-01-23   \n",
       "954490 -2.270000e+15  1.380000e+15           239      2020-07-17   \n",
       "954491 -2.270000e+15  1.380000e+15            57      2021-12-23   \n",
       "954492 -2.270000e+15  1.380000e+15           203      2020-11-18   \n",
       "954493 -2.270000e+15  1.380000e+15           428      2021-09-28   \n",
       "\n",
       "        updated_at_time published_at_date  published_at_time  \n",
       "0                  0.00        2020-12-27               0.00  \n",
       "1                  0.00        2021-08-05               0.00  \n",
       "2                  0.00        2022-03-14               0.00  \n",
       "3                  0.00        2021-06-26               0.00  \n",
       "4                  0.00        2022-03-14               0.00  \n",
       "...                 ...               ...                ...  \n",
       "954489            23.59        2020-01-23              23.59  \n",
       "954490            23.59        2020-07-17              22.15  \n",
       "954491            23.59        2021-12-23              23.59  \n",
       "954492            23.59        2020-11-18              23.59  \n",
       "954493            23.59        2021-09-28              23.59  \n",
       "\n",
       "[954494 rows x 7 columns]"
      ]
     },
     "execution_count": 38,
     "metadata": {},
     "output_type": "execute_result"
    }
   ],
   "source": [
    "X"
   ]
  },
  {
   "cell_type": "code",
   "execution_count": 39,
   "id": "ae6e8c55",
   "metadata": {},
   "outputs": [],
   "source": [
    "from sklearn.preprocessing import LabelEncoder\n",
    "le=LabelEncoder()"
   ]
  },
  {
   "cell_type": "code",
   "execution_count": 40,
   "id": "8a4f45a4",
   "metadata": {},
   "outputs": [
    {
     "name": "stderr",
     "output_type": "stream",
     "text": [
      "D:\\Anaconda\\envs\\test_gpu\\lib\\site-packages\\sklearn\\utils\\validation.py:63: DataConversionWarning: A column-vector y was passed when a 1d array was expected. Please change the shape of y to (n_samples, ), for example using ravel().\n",
      "  return f(*args, **kwargs)\n"
     ]
    }
   ],
   "source": [
    "y=le.fit_transform(y)"
   ]
  },
  {
   "cell_type": "code",
   "execution_count": 41,
   "id": "2b26530e",
   "metadata": {},
   "outputs": [],
   "source": [
    "y=pd.Series(y)"
   ]
  },
  {
   "cell_type": "code",
   "execution_count": 42,
   "id": "5306e577",
   "metadata": {},
   "outputs": [
    {
     "data": {
      "text/plain": [
       "<AxesSubplot:title={'center':'Correlation with target'}>"
      ]
     },
     "execution_count": 42,
     "metadata": {},
     "output_type": "execute_result"
    },
    {
     "data": {
      "image/png": "[encoded data removed]",
      "text/plain": [
       "<Figure size 864x576 with 1 Axes>"
      ]
     },
     "metadata": {},
     "output_type": "display_data"
    }
   ],
   "source": [
    "X.corrwith(y).plot(kind='bar', grid=True, figsize=(12, 8), \n",
    "                                                   title=\"Correlation with target\")"
   ]
  },
  {
   "cell_type": "code",
   "execution_count": 43,
   "id": "2bc98874",
   "metadata": {},
   "outputs": [],
   "source": [
    "X=X.drop(['updated_at_date','published_at_date'], axis=1)"
   ]
  },
  {
   "cell_type": "code",
   "execution_count": 44,
   "id": "8361128c",
   "metadata": {},
   "outputs": [
    {
     "data": {
      "text/plain": [
       "array([35,  4, 17, 29, 44, 26, 20, 27, 40, 38, 18, 39, 33, 19, 25,  1, 34,\n",
       "       10, 23, 13,  9, 12, 15,  3, 43, 28, 16,  2, 42, 37,  0, 21, 36, 41,\n",
       "       31,  7, 30, 11, 32,  6, 22,  8, 24,  5, 14])"
      ]
     },
     "execution_count": 44,
     "metadata": {},
     "output_type": "execute_result"
    }
   ],
   "source": [
    "y.unique()"
   ]
  },
  {
   "cell_type": "code",
   "execution_count": 45,
   "id": "d189ddf4",
   "metadata": {},
   "outputs": [],
   "source": [
    "#from imblearn.over_sampling import SMOTE\n",
    "#oversample = SMOTE()\n",
    "#X, y = oversample.fit_resample(X, y)"
   ]
  },
  {
   "cell_type": "markdown",
   "id": "6dcaa5bf",
   "metadata": {},
   "source": [
    "Solving data imbalancing using Synthetic Minortiy Oversampling Technique"
   ]
  },
  {
   "cell_type": "code",
   "execution_count": 46,
   "id": "2f0da7e8",
   "metadata": {},
   "outputs": [],
   "source": [
    "#sns.set(rc = {'figure.figsize':(15,8)})\n",
    "#y.value_counts().plot(kind=\"bar\", color=[\"salmon\", \"lightblue\"])"
   ]
  },
  {
   "cell_type": "code",
   "execution_count": 47,
   "id": "6d1349e6",
   "metadata": {},
   "outputs": [],
   "source": [
    "X_names=X.columns\n",
    "y_names=df.category_name.unique()"
   ]
  },
  {
   "cell_type": "code",
   "execution_count": 48,
   "id": "81e72ffa",
   "metadata": {},
   "outputs": [],
   "source": [
    "from sklearn.model_selection import train_test_split\n",
    "X_train, X_test, y_train, y_test = train_test_split(X,y,test_size=0.25)"
   ]
  },
  {
   "cell_type": "code",
   "execution_count": 49,
   "id": "8be7de1e",
   "metadata": {},
   "outputs": [
    {
     "data": {
      "text/plain": [
       "(715870, 5)"
      ]
     },
     "execution_count": 49,
     "metadata": {},
     "output_type": "execute_result"
    }
   ],
   "source": [
    "X_train.shape"
   ]
  },
  {
   "cell_type": "code",
   "execution_count": 50,
   "id": "cf6ad375",
   "metadata": {},
   "outputs": [
    {
     "data": {
      "text/plain": [
       "(715870,)"
      ]
     },
     "execution_count": 50,
     "metadata": {},
     "output_type": "execute_result"
    }
   ],
   "source": [
    "y_train.shape"
   ]
  },
  {
   "cell_type": "markdown",
   "id": "721c3f38",
   "metadata": {},
   "source": [
    "# Model 1: Random forest Classifier"
   ]
  },
  {
   "cell_type": "code",
   "execution_count": 117,
   "id": "8a326125",
   "metadata": {},
   "outputs": [],
   "source": [
    "#from sklearn.tree import DecisionTreeClassifier\n",
    "#model=DecisionTreeClassifier()"
   ]
  },
  {
   "cell_type": "code",
   "execution_count": 51,
   "id": "3cfecd41",
   "metadata": {},
   "outputs": [],
   "source": [
    "from sklearn.ensemble import RandomForestClassifier\n",
    "#model = RandomForestClassifier()"
   ]
  },
  {
   "cell_type": "code",
   "execution_count": 53,
   "id": "8a6df4d8",
   "metadata": {},
   "outputs": [
    {
     "name": "stdout",
     "output_type": "stream",
     "text": [
      "Parameters currently in use:\n",
      "\n",
      "{'bootstrap': True,\n",
      " 'ccp_alpha': 0.0,\n",
      " 'class_weight': None,\n",
      " 'criterion': 'gini',\n",
      " 'max_depth': None,\n",
      " 'max_features': 'auto',\n",
      " 'max_leaf_nodes': None,\n",
      " 'max_samples': None,\n",
      " 'min_impurity_decrease': 0.0,\n",
      " 'min_impurity_split': None,\n",
      " 'min_samples_leaf': 1,\n",
      " 'min_samples_split': 2,\n",
      " 'min_weight_fraction_leaf': 0.0,\n",
      " 'n_estimators': 100,\n",
      " 'n_jobs': None,\n",
      " 'oob_score': False,\n",
      " 'random_state': 42,\n",
      " 'verbose': 0,\n",
      " 'warm_start': False}\n"
     ]
    }
   ],
   "source": [
    "rf = RandomForestClassifier(random_state = 42)\n",
    "from pprint import pprint\n",
    "\n",
    "# displaying parameters used by our current forest\n",
    "print('Parameters currently in use:\\n')\n",
    "pprint(rf.get_params())"
   ]
  },
  {
   "cell_type": "markdown",
   "id": "03fb832b",
   "metadata": {},
   "source": [
    "Defining limits for hyperparameters"
   ]
  },
  {
   "cell_type": "code",
   "execution_count": 54,
   "id": "95a5a60c",
   "metadata": {},
   "outputs": [
    {
     "name": "stdout",
     "output_type": "stream",
     "text": [
      "{'bootstrap': [True, False],\n",
      " 'max_depth': [10, 20, 30, 40, 50, 60, 70, 80, 90, 100, 110, None],\n",
      " 'max_features': ['auto', 'sqrt'],\n",
      " 'min_samples_leaf': [1, 2, 4],\n",
      " 'min_samples_split': [2, 5, 10],\n",
      " 'n_estimators': [200, 400, 600, 800, 1000, 1200, 1400, 1600, 1800, 2000]}\n"
     ]
    }
   ],
   "source": [
    "from sklearn.model_selection import RandomizedSearchCV\n",
    "\n",
    "n_estimators = [int(x) for x in np.linspace(start = 200, stop = 2000, num = 10)] # Number of trees in random forest\n",
    "\n",
    "max_features = ['auto', 'sqrt'] # Number of features to consider at every split\n",
    "\n",
    "max_depth = [int(x) for x in np.linspace(10, 110, num = 11)] # Maximum number of levels in tree\n",
    "max_depth.append(None)\n",
    "\n",
    "min_samples_split = [2, 5, 10] # Minimum number of samples required to split a node\n",
    "\n",
    "min_samples_leaf = [1, 2, 4] # Minimum number of samples required at each leaf node\n",
    "\n",
    "bootstrap = [True, False] # Method of selecting samples for training each tree\n",
    "\n",
    "# Creating the random grid\n",
    "random_grid = {'n_estimators': n_estimators,\n",
    "               'max_features': max_features,\n",
    "               'max_depth': max_depth,\n",
    "               'min_samples_split': min_samples_split,\n",
    "               'min_samples_leaf': min_samples_leaf,\n",
    "               'bootstrap': bootstrap}\n",
    "\n",
    "pprint(random_grid)"
   ]
  },
  {
   "cell_type": "code",
   "execution_count": 57,
   "id": "d33b913d",
   "metadata": {},
   "outputs": [
    {
     "name": "stdout",
     "output_type": "stream",
     "text": [
      "Fitting 3 folds for each of 100 candidates, totalling 300 fits\n"
     ]
    },
    {
     "name": "stderr",
     "output_type": "stream",
     "text": [
      "D:\\Anaconda\\envs\\test_gpu\\lib\\site-packages\\sklearn\\model_selection\\_search.py:925: UserWarning: One or more of the test scores are non-finite: [       nan        nan        nan        nan        nan        nan\n",
      "        nan        nan        nan        nan        nan        nan\n",
      "        nan        nan        nan        nan        nan        nan\n",
      "        nan        nan        nan        nan        nan        nan\n",
      "        nan        nan        nan        nan        nan        nan\n",
      "        nan        nan        nan        nan        nan        nan\n",
      "        nan        nan        nan        nan        nan        nan\n",
      "        nan        nan        nan        nan        nan        nan\n",
      "        nan        nan        nan        nan        nan        nan\n",
      "        nan        nan        nan        nan        nan        nan\n",
      "        nan 0.22100381        nan        nan        nan        nan\n",
      "        nan        nan        nan        nan        nan        nan\n",
      "        nan        nan        nan        nan        nan        nan\n",
      "        nan        nan        nan        nan        nan        nan\n",
      "        nan        nan        nan        nan        nan        nan\n",
      "        nan        nan        nan        nan        nan        nan\n",
      "        nan        nan        nan        nan]\n",
      "  category=UserWarning\n"
     ]
    },
    {
     "data": {
      "text/plain": [
       "RandomizedSearchCV(cv=3, estimator=RandomForestClassifier(), n_iter=100,\n",
       "                   n_jobs=-1,\n",
       "                   param_distributions={'bootstrap': [True, False],\n",
       "                                        'max_depth': [10, 20, 30, 40, 50, 60,\n",
       "                                                      70, 80, 90, 100, 110,\n",
       "                                                      None],\n",
       "                                        'max_features': ['auto', 'sqrt'],\n",
       "                                        'min_samples_leaf': [1, 2, 4],\n",
       "                                        'min_samples_split': [2, 5, 10],\n",
       "                                        'n_estimators': [200, 400, 600, 800,\n",
       "                                                         1000, 1200, 1400, 1600,\n",
       "                                                         1800, 2000]},\n",
       "                   random_state=42, verbose=2)"
      ]
     },
     "execution_count": 57,
     "metadata": {},
     "output_type": "execute_result"
    }
   ],
   "source": [
    "# Using the random grid to search for best hyperparameters\n",
    "\n",
    "rf = RandomForestClassifier()  #base model\n",
    "\n",
    "# Random search of parameters, using 3 fold cross validation, \n",
    "rf_random = RandomizedSearchCV(estimator = rf, param_distributions = random_grid, n_iter = 100, cv = 3, verbose=2, random_state=42, n_jobs = -1)\n",
    "\n",
    "rf_random.fit(X_train, y_train)"
   ]
  },
  {
   "cell_type": "code",
   "execution_count": 58,
   "id": "1b078bed",
   "metadata": {},
   "outputs": [
    {
     "data": {
      "text/plain": [
       "{'n_estimators': 400,\n",
       " 'min_samples_split': 2,\n",
       " 'min_samples_leaf': 4,\n",
       " 'max_features': 'sqrt',\n",
       " 'max_depth': 10,\n",
       " 'bootstrap': True}"
      ]
     },
     "execution_count": 58,
     "metadata": {},
     "output_type": "execute_result"
    }
   ],
   "source": [
    "rf_random.best_params_"
   ]
  },
  {
   "cell_type": "code",
   "execution_count": null,
   "id": "a3dc8949",
   "metadata": {},
   "outputs": [],
   "source": [
    "#making a new model with the best parameters possible "
   ]
  },
  {
   "cell_type": "code",
   "execution_count": 66,
   "id": "d4e6a080",
   "metadata": {},
   "outputs": [],
   "source": [
    "model = RandomForestClassifier(n_estimators=400,\n",
    " min_samples_split=2,\n",
    " min_samples_leaf=4,\n",
    " max_features='sqrt',\n",
    " max_depth=10,\n",
    " bootstrap=True)"
   ]
  },
  {
   "cell_type": "code",
   "execution_count": 67,
   "id": "bc19896a",
   "metadata": {},
   "outputs": [
    {
     "data": {
      "text/plain": [
       "RandomForestClassifier(max_depth=10, max_features='sqrt', min_samples_leaf=4,\n",
       "                       n_estimators=400)"
      ]
     },
     "execution_count": 67,
     "metadata": {},
     "output_type": "execute_result"
    }
   ],
   "source": [
    "model.fit(X_train,y_train)"
   ]
  },
  {
   "cell_type": "code",
   "execution_count": 68,
   "id": "b6227bf3",
   "metadata": {},
   "outputs": [
    {
     "data": {
      "text/plain": [
       "0.22428792937265146"
      ]
     },
     "execution_count": 68,
     "metadata": {},
     "output_type": "execute_result"
    }
   ],
   "source": [
    "model.score(X_train,y_train)"
   ]
  },
  {
   "cell_type": "code",
   "execution_count": 69,
   "id": "3b762199",
   "metadata": {},
   "outputs": [
    {
     "data": {
      "text/plain": [
       "0.2214823320370122"
      ]
     },
     "execution_count": 69,
     "metadata": {},
     "output_type": "execute_result"
    }
   ],
   "source": [
    "model.score(X_test,y_test)"
   ]
  },
  {
   "cell_type": "code",
   "execution_count": 70,
   "id": "12600709",
   "metadata": {},
   "outputs": [],
   "source": [
    "y_pred=model.predict(X_test)"
   ]
  },
  {
   "cell_type": "markdown",
   "id": "d61fe23e",
   "metadata": {},
   "source": [
    "### other evaluation matrices : Precision, Recall, F1-Score, Support "
   ]
  },
  {
   "cell_type": "markdown",
   "id": "ad2e5131",
   "metadata": {},
   "source": [
    "Support is the number of actual occurrences of the class in the specified dataset."
   ]
  },
  {
   "cell_type": "code",
   "execution_count": 71,
   "id": "6564f5df",
   "metadata": {},
   "outputs": [
    {
     "name": "stdout",
     "output_type": "stream",
     "text": [
      "              precision    recall  f1-score   support\n",
      "\n",
      "           0       0.00      0.00      0.00       731\n",
      "           1       0.00      0.00      0.00      2414\n",
      "           2       0.00      0.00      0.00       351\n",
      "           3       0.00      0.00      0.00      2416\n",
      "           4       0.00      0.00      0.00      3326\n",
      "           5       0.00      0.00      0.00       119\n",
      "           6       0.00      0.00      0.00       102\n",
      "           7       0.00      0.00      0.00       774\n",
      "           8       0.00      0.00      0.00       422\n",
      "           9       0.00      0.00      0.00      5434\n",
      "          10       1.00      0.00      0.00      2576\n",
      "          11       0.33      0.00      0.00      3676\n",
      "          12       0.00      0.00      0.00      1754\n",
      "          13       0.00      0.00      0.00       764\n",
      "          14       0.00      0.00      0.00       128\n",
      "          15       0.00      0.00      0.00       491\n",
      "          16       0.00      0.00      0.00      1818\n",
      "          17       0.20      0.00      0.00      5848\n",
      "          18       0.00      0.00      0.00        95\n",
      "          19       0.00      0.00      0.00      5070\n",
      "          20       0.04      0.00      0.00     14634\n",
      "          21       0.00      0.00      0.00      2312\n",
      "          22       0.00      0.00      0.00       685\n",
      "          23       0.00      0.00      0.00      7258\n",
      "          24       0.00      0.00      0.00       452\n",
      "          25       0.71      0.00      0.00     12883\n",
      "          26       0.33      0.00      0.00     11731\n",
      "          27       0.33      0.00      0.01       869\n",
      "          28       0.75      0.01      0.03      3003\n",
      "          29       0.36      0.02      0.03     13275\n",
      "          30       0.00      0.00      0.00      1438\n",
      "          31       0.00      0.00      0.00       679\n",
      "          32       0.00      0.00      0.00       220\n",
      "          33       0.00      0.00      0.00       451\n",
      "          34       0.00      0.00      0.00      3883\n",
      "          35       0.23      0.81      0.36     48461\n",
      "          36       0.00      0.00      0.00       688\n",
      "          37       0.00      0.00      0.00       906\n",
      "          38       0.20      0.50      0.28     25509\n",
      "          39       0.30      0.02      0.04     18633\n",
      "          40       0.27      0.01      0.01     16018\n",
      "          41       0.09      0.00      0.00      1983\n",
      "          42       0.00      0.00      0.00      1099\n",
      "          43       0.00      0.00      0.00      4005\n",
      "          44       0.12      0.00      0.00      9240\n",
      "\n",
      "    accuracy                           0.22    238624\n",
      "   macro avg       0.12      0.03      0.02    238624\n",
      "weighted avg       0.22      0.22      0.11    238624\n",
      "\n"
     ]
    },
    {
     "name": "stderr",
     "output_type": "stream",
     "text": [
      "D:\\Anaconda\\envs\\test_gpu\\lib\\site-packages\\sklearn\\metrics\\_classification.py:1248: UndefinedMetricWarning: Precision and F-score are ill-defined and being set to 0.0 in labels with no predicted samples. Use `zero_division` parameter to control this behavior.\n",
      "  _warn_prf(average, modifier, msg_start, len(result))\n",
      "D:\\Anaconda\\envs\\test_gpu\\lib\\site-packages\\sklearn\\metrics\\_classification.py:1248: UndefinedMetricWarning: Precision and F-score are ill-defined and being set to 0.0 in labels with no predicted samples. Use `zero_division` parameter to control this behavior.\n",
      "  _warn_prf(average, modifier, msg_start, len(result))\n",
      "D:\\Anaconda\\envs\\test_gpu\\lib\\site-packages\\sklearn\\metrics\\_classification.py:1248: UndefinedMetricWarning: Precision and F-score are ill-defined and being set to 0.0 in labels with no predicted samples. Use `zero_division` parameter to control this behavior.\n",
      "  _warn_prf(average, modifier, msg_start, len(result))\n"
     ]
    }
   ],
   "source": [
    "from sklearn.metrics import classification_report\n",
    "report=classification_report(y_test,y_pred)\n",
    "print(report)"
   ]
  },
  {
   "cell_type": "markdown",
   "id": "aef018e9",
   "metadata": {},
   "source": [
    "### Displaying Confusion Matrix"
   ]
  },
  {
   "cell_type": "code",
   "execution_count": 72,
   "id": "c9e618bb",
   "metadata": {},
   "outputs": [
    {
     "data": {
      "text/plain": [
       "array([[0, 0, 0, ..., 0, 0, 0],\n",
       "       [0, 0, 0, ..., 0, 0, 0],\n",
       "       [0, 0, 0, ..., 0, 0, 0],\n",
       "       ...,\n",
       "       [0, 0, 0, ..., 0, 0, 0],\n",
       "       [0, 0, 0, ..., 0, 0, 0],\n",
       "       [0, 0, 0, ..., 0, 0, 1]], dtype=int64)"
      ]
     },
     "execution_count": 72,
     "metadata": {},
     "output_type": "execute_result"
    }
   ],
   "source": [
    "from sklearn.metrics import confusion_matrix\n",
    "cm=confusion_matrix(y_test,y_pred)\n",
    "cm"
   ]
  },
  {
   "cell_type": "code",
   "execution_count": 73,
   "id": "263fbff5",
   "metadata": {},
   "outputs": [
    {
     "data": {
      "text/plain": [
       "'\\nfrom sklearn import tree\\nfig = plt.figure(figsize=(25,20))\\n_ = tree.plot_tree(model, \\n                   feature_names=X_names,  \\n                   class_names=y_names,\\n                   filled=True)\\n'"
      ]
     },
     "execution_count": 73,
     "metadata": {},
     "output_type": "execute_result"
    }
   ],
   "source": [
    "#for vizualizing the branchin of decision tree\n",
    "\"\"\"\n",
    "from sklearn import tree\n",
    "fig = plt.figure(figsize=(25,20))\n",
    "_ = tree.plot_tree(model, \n",
    "                   feature_names=X_names,  \n",
    "                   class_names=y_names,\n",
    "                   filled=True)\n",
    "\"\"\""
   ]
  },
  {
   "cell_type": "markdown",
   "id": "23340b34",
   "metadata": {},
   "source": [
    "Testing the recommendation model for an input example"
   ]
  },
  {
   "cell_type": "code",
   "execution_count": 74,
   "id": "39d5ae50",
   "metadata": {},
   "outputs": [
    {
     "data": {
      "text/html": [
       "<div>\n",
       "<style scoped>\n",
       "    .dataframe tbody tr th:only-of-type {\n",
       "        vertical-align: middle;\n",
       "    }\n",
       "\n",
       "    .dataframe tbody tr th {\n",
       "        vertical-align: top;\n",
       "    }\n",
       "\n",
       "    .dataframe thead th {\n",
       "        text-align: right;\n",
       "    }\n",
       "</style>\n",
       "<table border=\"1\" class=\"dataframe\">\n",
       "  <thead>\n",
       "    <tr style=\"text-align: right;\">\n",
       "      <th></th>\n",
       "      <th>author_id</th>\n",
       "      <th>pratilipi_id</th>\n",
       "      <th>reading_time</th>\n",
       "      <th>updated_at_time</th>\n",
       "      <th>published_at_time</th>\n",
       "    </tr>\n",
       "  </thead>\n",
       "  <tbody>\n",
       "    <tr>\n",
       "      <th>2265</th>\n",
       "      <td>-2.270000e+15</td>\n",
       "      <td>1.380000e+15</td>\n",
       "      <td>810</td>\n",
       "      <td>0.09</td>\n",
       "      <td>0.09</td>\n",
       "    </tr>\n",
       "  </tbody>\n",
       "</table>\n",
       "</div>"
      ],
      "text/plain": [
       "         author_id  pratilipi_id  reading_time  updated_at_time  \\\n",
       "2265 -2.270000e+15  1.380000e+15           810             0.09   \n",
       "\n",
       "      published_at_time  \n",
       "2265               0.09  "
      ]
     },
     "execution_count": 74,
     "metadata": {},
     "output_type": "execute_result"
    }
   ],
   "source": [
    "X.loc[[2265]]"
   ]
  },
  {
   "cell_type": "markdown",
   "id": "4478b5c4",
   "metadata": {},
   "source": [
    "Displaying probabilty scores of different pratilip categories"
   ]
  },
  {
   "cell_type": "code",
   "execution_count": 75,
   "id": "d1aae20d",
   "metadata": {},
   "outputs": [
    {
     "data": {
      "text/plain": [
       "array([[1.74801946e-03, 1.24871157e-02, 1.12808807e-03, 4.11125816e-03,\n",
       "        7.20456420e-03, 3.55257599e-04, 4.47337639e-04, 3.44631003e-03,\n",
       "        9.18726786e-04, 1.26590804e-02, 1.52049447e-02, 2.05631615e-02,\n",
       "        8.73191844e-03, 2.25696453e-03, 2.89810635e-04, 3.46063117e-03,\n",
       "        6.35116150e-03, 1.23013117e-02, 7.97711485e-05, 4.95346527e-02,\n",
       "        9.31806882e-02, 8.56909598e-03, 4.58305269e-03, 2.70102960e-02,\n",
       "        1.07950896e-03, 3.65783163e-02, 7.82211816e-02, 2.18724028e-03,\n",
       "        1.33242110e-02, 3.07838073e-02, 6.35471258e-03, 1.27243439e-03,\n",
       "        2.16877373e-04, 1.23044955e-03, 7.84747077e-03, 1.42241137e-01,\n",
       "        1.80420308e-03, 1.25596130e-03, 1.25467346e-01, 1.23412857e-01,\n",
       "        4.24193566e-02, 6.25760828e-03, 2.15151436e-03, 1.02501984e-02,\n",
       "        6.90203895e-02]])"
      ]
     },
     "execution_count": 75,
     "metadata": {},
     "output_type": "execute_result"
    }
   ],
   "source": [
    "model.predict_proba(X.loc[[2256]])"
   ]
  },
  {
   "cell_type": "code",
   "execution_count": 76,
   "id": "5d14d24f",
   "metadata": {},
   "outputs": [],
   "source": [
    "result=model.predict_proba(X.loc[[2256]])"
   ]
  },
  {
   "cell_type": "code",
   "execution_count": 77,
   "id": "956521c1",
   "metadata": {},
   "outputs": [],
   "source": [
    "result=np.array(result)"
   ]
  },
  {
   "cell_type": "code",
   "execution_count": 78,
   "id": "7ca3ceda",
   "metadata": {},
   "outputs": [],
   "source": [
    "# Import the matplotlib library\n",
    "import matplotlib.pyplot as plt\n",
    "\n",
    "# Save the one-size array into variable\n",
    "pred_prob = result[0]\n",
    "\n",
    "# Class names from the predictions\n",
    "class_names = ['romance', 'Pratilipi-kalamkar-samman', 'entertainment', 'novels',\n",
    "       'women', 'moral-inspiring', 'family', 'murder-mystery', 'suspense',\n",
    "       'shortstories', 'erotica', 'social', 'premkamahina',\n",
    "       'experiences-and-memories', 'life', 'Indiawale',\n",
    "       'relegion-and-spiritual', 'children', 'horror', 'crime-lekhan',\n",
    "       'action-and-adventure', 'crime', 'detective',\n",
    "       'Pratilipi-Awards-Hindi', 'webseries', 'mythology', 'drama',\n",
    "       'Parytan', 'translation', 'short-story-challenge',\n",
    "       'Horror-Marathon', 'fantasy', 'science-fiction', 'swahindi2',\n",
    "       'pratilipi-kids', 'Serieswriting', 'politics', 'comedy',\n",
    "       'pravasi-sahitya', 'Rashtriya', 'health-and-wellness',\n",
    "       'The-Chat-Story', 'krishi-jeevan', 'Radio-Fiction',\n",
    "       'cyber-crime-fiction']\n",
    "class_names=np.array(class_names)"
   ]
  },
  {
   "cell_type": "markdown",
   "id": "78ac405e",
   "metadata": {},
   "source": [
    "### Recommendation of most appropriate pratilipi category according to input "
   ]
  },
  {
   "cell_type": "code",
   "execution_count": 79,
   "id": "40b5a18b",
   "metadata": {},
   "outputs": [
    {
     "data": {
      "image/png": "[encoded data removed]",
      "text/plain": [
       "<Figure size 1800x864 with 1 Axes>"
      ]
     },
     "metadata": {},
     "output_type": "display_data"
    }
   ],
   "source": [
    "# Set the figure size\n",
    "plt.figure(figsize=(25, 12))\n",
    "\n",
    "# Declare the plot you want to create\n",
    "plt.bar(class_names, pred_prob)\n",
    "\n",
    "# Set the title of your plot\n",
    "plt.title(\"Prediction Probabilities\")\n",
    "\n",
    "# Give label for x and y of your plot\n",
    "plt.xlabel(\"Class Names\")\n",
    "plt.ylabel(\"Score\")\n",
    "\n",
    "# Rotate the label\n",
    "plt.xticks(rotation=\"35\")\n",
    "\n",
    "# Display chart \n",
    "plt.show()"
   ]
  },
  {
   "cell_type": "markdown",
   "id": "d73f4f51",
   "metadata": {},
   "source": [
    "# Model 2 (knn)"
   ]
  },
  {
   "cell_type": "code",
   "execution_count": 51,
   "id": "291e3726",
   "metadata": {},
   "outputs": [],
   "source": [
    "#model2.fit(X_train, y_train)"
   ]
  },
  {
   "cell_type": "code",
   "execution_count": 52,
   "id": "7e356402",
   "metadata": {},
   "outputs": [],
   "source": [
    "from sklearn.neighbors import KNeighborsClassifier  \n",
    "model2=KNeighborsClassifier(n_neighbors=5, weights='uniform')"
   ]
  },
  {
   "cell_type": "code",
   "execution_count": 53,
   "id": "ddc0ea73",
   "metadata": {},
   "outputs": [
    {
     "data": {
      "text/plain": [
       "KNeighborsClassifier()"
      ]
     },
     "execution_count": 53,
     "metadata": {},
     "output_type": "execute_result"
    }
   ],
   "source": [
    "model2.fit(X_train,y_train)"
   ]
  },
  {
   "cell_type": "code",
   "execution_count": 54,
   "id": "8d7067dc",
   "metadata": {},
   "outputs": [
    {
     "data": {
      "text/plain": [
       "0.3230279240644251"
      ]
     },
     "execution_count": 54,
     "metadata": {},
     "output_type": "execute_result"
    }
   ],
   "source": [
    "model2.score(X_train,y_train)"
   ]
  },
  {
   "cell_type": "code",
   "execution_count": 55,
   "id": "faecbe6f",
   "metadata": {},
   "outputs": [
    {
     "data": {
      "text/plain": [
       "0.080645702024943"
      ]
     },
     "execution_count": 55,
     "metadata": {},
     "output_type": "execute_result"
    }
   ],
   "source": [
    "model2.score(X_test,y_test)"
   ]
  },
  {
   "cell_type": "code",
   "execution_count": 58,
   "id": "34005a11",
   "metadata": {},
   "outputs": [
    {
     "data": {
      "text/plain": [
       "array([[0. , 0. , 0. , 0. , 0. , 0. , 0. , 0. , 0. , 0. , 0. , 0. , 0. ,\n",
       "        0. , 0. , 0. , 0. , 0. , 0. , 0. , 0.4, 0. , 0. , 0.2, 0. , 0. ,\n",
       "        0. , 0. , 0. , 0. , 0. , 0. , 0. , 0. , 0. , 0. , 0. , 0. , 0.2,\n",
       "        0.2, 0. , 0. , 0. , 0. , 0. ]])"
      ]
     },
     "execution_count": 58,
     "metadata": {},
     "output_type": "execute_result"
    }
   ],
   "source": [
    "model2.predict_proba(X.loc[[2256]])"
   ]
  },
  {
   "cell_type": "code",
   "execution_count": 59,
   "id": "6f72856b",
   "metadata": {},
   "outputs": [],
   "source": [
    "result=model2.predict_proba(X.loc[[2256]])\n",
    "result=np.array(result)"
   ]
  },
  {
   "cell_type": "code",
   "execution_count": 60,
   "id": "330066a1",
   "metadata": {},
   "outputs": [],
   "source": [
    "pred_prob = result[0]"
   ]
  },
  {
   "cell_type": "code",
   "execution_count": 61,
   "id": "cb8770f8",
   "metadata": {},
   "outputs": [],
   "source": [
    "#model2.score(X_test, y_test)"
   ]
  },
  {
   "cell_type": "code",
   "execution_count": 64,
   "id": "c37e5c8e",
   "metadata": {},
   "outputs": [
    {
     "data": {
      "image/png": "[encoded data removed]",
      "text/plain": [
       "<Figure size 1800x864 with 1 Axes>"
      ]
     },
     "metadata": {},
     "output_type": "display_data"
    }
   ],
   "source": [
    "# Set the figure size\n",
    "plt.figure(figsize=(25, 12))\n",
    "\n",
    "# Declare the plot you want to create\n",
    "plt.bar(class_names, pred_prob)\n",
    "\n",
    "# Set the title of your plot\n",
    "plt.title(\"Prediction Probabilities\")\n",
    "\n",
    "# Give label for x and y of your plot\n",
    "plt.xlabel(\"Class Names\")\n",
    "plt.ylabel(\"Score\")\n",
    "\n",
    "# Rotate the label\n",
    "plt.xticks(rotation=\"35\")\n",
    "\n",
    "# Display chart \n",
    "plt.show()"
   ]
  },
  {
   "cell_type": "markdown",
   "id": "6dac57fd",
   "metadata": {},
   "source": [
    "KNN is performing worse than Random Forest Classifier for recommending pratilipis"
   ]
  },
  {
   "cell_type": "markdown",
   "id": "611209c8",
   "metadata": {},
   "source": [
    "### Hyperparameter tuning using grid search CV "
   ]
  },
  {
   "cell_type": "code",
   "execution_count": null,
   "id": "a1e570b8",
   "metadata": {},
   "outputs": [],
   "source": [
    "\"\"\"\n",
    "from sklearn import svm\n",
    "from sklearn.ensemble import RandomForestClassifier\n",
    "from sklearn.linear_model import LogisticRegression\n",
    "\n",
    "model_params = {\n",
    "    'svm': {\n",
    "        'model': svm.SVC(gamma='auto'),\n",
    "        'params' : {\n",
    "            'C': [1,10,20],\n",
    "            'kernel': ['rbf','linear']\n",
    "        }  \n",
    "    },\n",
    "    'random_forest': {\n",
    "        'model': RandomForestClassifier(),\n",
    "        'params' : {\n",
    "            'n_estimators': [1,5,10]\n",
    "        }\n",
    "    },\n",
    "    'logistic_regression' : {\n",
    "        'model': LogisticRegression(solver='liblinear',multi_class='auto'),\n",
    "        'params': {\n",
    "            'C': [1,5,10]\n",
    "        }\n",
    "    }\n",
    "}\n",
    "a json file containing a list of all models and its parameter grid\n",
    "\"\"\""
   ]
  },
  {
   "cell_type": "code",
   "execution_count": null,
   "id": "8d3d203b",
   "metadata": {},
   "outputs": [],
   "source": [
    "\"\"\"\"\n",
    "scores = []\n",
    "\n",
    "for model_name, mp in model_params.items():\n",
    "    clf =  GridSearchCV(mp['model'], mp['params'], cv=5, return_train_score=False)\n",
    "    clf.fit(iris.data, iris.target)\n",
    "    scores.append({\n",
    "        'model': model_name,\n",
    "        'best_score': clf.best_score_,\n",
    "        'best_params': clf.best_params_     #for putting these attribute values in different columns in a dataframe\n",
    "    })\n",
    "    \n",
    "df = pd.DataFrame(scores,columns=['model','best_score','best_params'])\n",
    "df\n",
    "\"\"\"\""
   ]
  }
 ],
 "metadata": {
  "kernelspec": {
   "display_name": "Python 3",
   "language": "python",
   "name": "python3"
  },
  "language_info": {
   "codemirror_mode": {
    "name": "ipython",
    "version": 3
   },
   "file_extension": ".py",
   "mimetype": "text/x-python",
   "name": "python",
   "nbconvert_exporter": "python",
   "pygments_lexer": "ipython3",
   "version": "3.6.13"
  }
 },
 "nbformat": 4,
 "nbformat_minor": 5
}
